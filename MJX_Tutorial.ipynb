{
 "cells": [
  {
   "cell_type": "markdown",
   "metadata": {},
   "source": []
  },
  {
   "cell_type": "markdown",
   "metadata": {},
   "source": []
  },
  {
   "cell_type": "code",
   "execution_count": null,
   "metadata": {},
   "outputs": [],
   "source": [
    "\n",
    "import jax.numpy as jnp\n",
    "import matplotlib.pyplot as plt\n",
    "import mujoco.mjx as mjx \n",
    "import mujoco\n",
    "import jax\n",
    "import os\n",
    "import numpy as np\n",
    "from functools import partial\n",
    "import time\n",
    "import mediapy as media\n"
   ]
  },
  {
   "cell_type": "code",
   "execution_count": null,
   "metadata": {},
   "outputs": [],
   "source": [
    "num_dof = 6\n",
    "num_batch = 500\n",
    "num_steps = 50\n",
    "timestep = 0.05"
   ]
  },
  {
   "cell_type": "code",
   "execution_count": null,
   "metadata": {},
   "outputs": [],
   "source": [
    "trajectories_file_path = f\"{os.getcwd()}/samples/trajectories.csv\" \n",
    "trajectories = np.genfromtxt(trajectories_file_path, delimiter=',')\n",
    "for traj in trajectories:\n",
    "    plt.plot(traj.reshape(num_dof, num_steps).T)\n",
    "plt.title(\"Trajectories\")\n",
    "plt.xlabel(\"Step\")\n",
    "plt.ylabel(\"Velocity\")\n",
    "plt.legend(['joint 1', 'joint 2', 'joint 3', 'joint 4', 'joint 5', 'joint 6'], loc='upper left')\n",
    "\n",
    "plt.show()"
   ]
  },
  {
   "cell_type": "code",
   "execution_count": null,
   "metadata": {},
   "outputs": [],
   "source": [
    "model_path = f\"{os.getcwd()}/ur5e_hande_mjx/scene.xml\" \n",
    "model = mujoco.MjModel.from_xml_path(model_path)\n",
    "model.opt.timestep = timestep\n",
    "\n",
    "data = mujoco.MjData(model)\n",
    "data.qpos[:6] = jnp.array([1.5, -1.8, 1.75, -1.25, -1.6, 0])\n",
    "\n",
    "mujoco.mj_forward(model, data)\n",
    "renderer = mujoco.Renderer(model)\n",
    "\n",
    "camera = mujoco.MjvCamera()\n",
    "camera.lookat[:] = [0.0, 0.0, 0.0]\n",
    "camera.distance = 3.0\n",
    "\n",
    "scene_option = mujoco.MjvOption()\n",
    "scene_option.sitegroup[:] = False\n",
    "scene_option.sitegroup[1] = True"
   ]
  },
  {
   "cell_type": "code",
   "execution_count": null,
   "metadata": {},
   "outputs": [],
   "source": [
    "renderer.update_scene(data, scene_option=scene_option, camera=camera)\n",
    "pixels = renderer.render()\n",
    "\n",
    "plt.imshow(pixels)\n",
    "plt.axis('off') \n",
    "plt.show()"
   ]
  },
  {
   "cell_type": "code",
   "execution_count": null,
   "metadata": {},
   "outputs": [],
   "source": [
    "class Simulator():\n",
    "\tdef __init__(self, model, data, num_dof=6, num_batch=100, num_steps=200):\n",
    "\t\tsuper(Simulator, self).__init__()\n",
    "\n",
    "\t\tself.num_dof = num_dof\n",
    "\t\tself.num_batch = num_batch\n",
    "\t\tself.num = num_steps\n",
    "\n",
    "\t\tself.target_pos = model.body(name=\"target\").pos\n",
    "\t\tself.target_rot = model.body(name=\"target\").quat\n",
    "\n",
    "\t\tself.hande_id = model.body(name=\"hande\").id\n",
    "\t\tself.tcp_id = model.site(name=\"tcp\").id\n",
    "\t\t\n",
    "\t\tself.mjx_model = mjx.put_model(model)\n",
    "\t\tself.mjx_data = mjx.put_data(model, data)\n",
    "\t\tself.jit_step = jax.jit(mjx.step)\n",
    "\n",
    "\t\tself.compute_rollout_batch = jax.vmap(self.compute_rollout_single, in_axes = (0))\n",
    "\t\tself.compute_cost_batch = jax.vmap(self.compute_cost_single, in_axes = (0))\n",
    "\n",
    "\t@partial(jax.jit, static_argnums=(0,))\n",
    "\tdef compute_cost_single(self, eef_pos, eef_rot):\n",
    "\t\tcost_g = jnp.linalg.norm(eef_pos - self.target_pos)\n",
    "\n",
    "\t\tdot_product = jnp.abs(jnp.dot(eef_rot/jnp.linalg.norm(eef_rot, axis=1).reshape(1, self.num).T, self.target_rot/jnp.linalg.norm(self.target_rot)))\n",
    "\t\tdot_product = jnp.clip(dot_product, -1.0, 1.0)\n",
    "\t\tcost_r_ = 2 * jnp.arccos(dot_product)\n",
    "\t\tcost_r = jnp.sum(cost_r_)\n",
    "\n",
    "\t\tcost = 1*cost_g + 0.5*cost_r\n",
    "\t\treturn cost\n",
    "\t\t\n",
    "\t@partial(jax.jit, static_argnums=(0,))\n",
    "\tdef mjx_step(self, mjx_data, thetadot_single):\n",
    "\t\tqvel = mjx_data.qvel.at[:self.num_dof].set(thetadot_single)\n",
    "\t\tmjx_data = mjx_data.replace(qvel=qvel)\n",
    "\t\tmjx_data = self.jit_step(self.mjx_model, mjx_data)\n",
    "\n",
    "\t\ttheta = mjx_data.qpos[:self.num_dof]\n",
    "\t\teef_rot = mjx_data.xquat[self.hande_id]\t\n",
    "\t\teef_pos = mjx_data.site_xpos[self.tcp_id]\n",
    "\n",
    "\t\treturn mjx_data, (theta, eef_pos, eef_rot)\n",
    "\t\n",
    "\t@partial(jax.jit, static_argnums=(0,))\n",
    "\tdef compute_rollout_single(self, thetadot):\n",
    "\t\tmjx_data = self.mjx_data\n",
    "\t\tthetadot_single = thetadot.reshape(self.num_dof, self.num)\n",
    "\t\t_, out = jax.lax.scan(self.mjx_step, mjx_data, thetadot_single.T, length=self.num)\n",
    "\t\ttheta, eef_pos, eef_rot= out\n",
    "\t\treturn theta.T.flatten(), eef_pos, eef_rot\n",
    "\t\n",
    "\t@partial(jax.jit, static_argnums=(0,))\n",
    "\tdef get_best_traj(self, thetadot):\n",
    "\t\ttheta, eef_pos, eef_rot = self.compute_rollout_batch(thetadot)\n",
    "\t\tcost_batch = self.compute_cost_batch(eef_pos, eef_rot)\n",
    "\n",
    "\t\tidx_min = jnp.argmin(cost_batch[-1])\n",
    "\t\tcost = jnp.min(cost_batch)\n",
    "\t\tbest_traj = thetadot[idx_min].reshape((self.num_dof, self.num)).T\n",
    "\t\treturn cost, best_traj\n",
    "\t\t\n",
    "    "
   ]
  },
  {
   "cell_type": "code",
   "execution_count": null,
   "metadata": {},
   "outputs": [],
   "source": [
    "sim = Simulator(model=model, data=data, num_batch=num_batch, num_dof=num_dof, num_steps=num_steps)"
   ]
  },
  {
   "cell_type": "code",
   "execution_count": null,
   "metadata": {},
   "outputs": [],
   "source": [
    "cost, best_traj = sim.get_best_traj(trajectories)"
   ]
  },
  {
   "cell_type": "code",
   "execution_count": null,
   "metadata": {},
   "outputs": [],
   "source": [
    "print(f\"Trajectory Cost: {cost}\")\n",
    "plt.plot(best_traj)\n",
    "plt.title(\"Trajectories\")\n",
    "plt.xlabel(\"Step\")\n",
    "plt.ylabel(\"Velocity\")\n",
    "plt.legend(['joint 1', 'joint 2', 'joint 3', 'joint 4', 'joint 5', 'joint 6'], loc='upper left')\n",
    "plt.show()"
   ]
  },
  {
   "cell_type": "code",
   "execution_count": null,
   "metadata": {},
   "outputs": [],
   "source": [
    "framerate = 30\n",
    "frames = list()\n",
    "for step in best_traj:\n",
    "    step_start = time.time()\n",
    "    data.qvel[:6] = step\n",
    "\n",
    "    mujoco.mj_step(model, data)\n",
    "\n",
    "    if len(frames) < data.time * framerate:\n",
    "        renderer.update_scene(data, scene_option=scene_option, camera=camera)\n",
    "        pixels = renderer.render()\n",
    "        frames.append(pixels)\n",
    "\n",
    "    time_until_next_step = model.opt.timestep - (time.time() - step_start)\n",
    "    if time_until_next_step > 0:\n",
    "        time.sleep(time_until_next_step)   "
   ]
  },
  {
   "cell_type": "code",
   "execution_count": null,
   "metadata": {},
   "outputs": [],
   "source": [
    "media.show_video(frames, fps=framerate)"
   ]
  }
 ],
 "metadata": {
  "kernelspec": {
   "display_name": "thesis_env",
   "language": "python",
   "name": "python3"
  },
  "language_info": {
   "codemirror_mode": {
    "name": "ipython",
    "version": 3
   },
   "file_extension": ".py",
   "mimetype": "text/x-python",
   "name": "python",
   "nbconvert_exporter": "python",
   "pygments_lexer": "ipython3",
   "version": "3.12.3"
  }
 },
 "nbformat": 4,
 "nbformat_minor": 2
}
