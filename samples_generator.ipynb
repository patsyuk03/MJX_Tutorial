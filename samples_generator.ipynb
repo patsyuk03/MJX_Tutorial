{
 "cells": [
  {
   "cell_type": "code",
   "execution_count": null,
   "metadata": {},
   "outputs": [],
   "source": [
    "from samples_generator import SamplesGenerator\n",
    "import matplotlib.pyplot as plt\n",
    "import os\n",
    "import numpy as np"
   ]
  },
  {
   "cell_type": "code",
   "execution_count": null,
   "metadata": {},
   "outputs": [],
   "source": [
    "num_dof = 6\n",
    "num_batch = 100\n",
    "num_steps = 50\n",
    "timestep = 0.05\n",
    "\n",
    "sg = SamplesGenerator(num_dof=num_dof, num_batch=num_batch, num_steps=num_steps, timestep=timestep)\n",
    "trajectories = sg.generate_samples()\n",
    "\n",
    "np.savetxt(f\"{os.getcwd()}/samples/trajectories.csv\",trajectories, delimiter=\",\")\n",
    "\n",
    "for traj in trajectories:\n",
    "    plt.plot(traj.reshape(num_dof, num_steps).T)\n",
    "plt.title(\"Trajectories\")\n",
    "plt.xlabel(\"Step\")\n",
    "plt.ylabel(\"Velocity\")\n",
    "plt.legend(['joint 1', 'joint 2', 'joint 3', 'joint 4', 'joint 5', 'joint 6'], loc='upper left')\n",
    "\n",
    "plt.show()"
   ]
  }
 ],
 "metadata": {
  "kernelspec": {
   "display_name": "thesis_env",
   "language": "python",
   "name": "python3"
  },
  "language_info": {
   "codemirror_mode": {
    "name": "ipython",
    "version": 3
   },
   "file_extension": ".py",
   "mimetype": "text/x-python",
   "name": "python",
   "nbconvert_exporter": "python",
   "pygments_lexer": "ipython3",
   "version": "3.12.3"
  }
 },
 "nbformat": 4,
 "nbformat_minor": 2
}
